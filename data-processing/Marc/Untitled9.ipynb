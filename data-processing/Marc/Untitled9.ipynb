{
 "cells": [
  {
   "cell_type": "code",
   "execution_count": 1,
   "metadata": {},
   "outputs": [],
   "source": [
    "import pandas as pd"
   ]
  },
  {
   "cell_type": "code",
   "execution_count": 11,
   "metadata": {},
   "outputs": [],
   "source": [
    "file = pd.read_excel(r'C:\\Users\\Yash\\Desktop\\McMaster Material\\Project\\Latest Dataset.xlsx')"
   ]
  },
  {
   "cell_type": "code",
   "execution_count": 12,
   "metadata": {},
   "outputs": [
    {
     "data": {
      "text/html": [
       "<div>\n",
       "<style scoped>\n",
       "    .dataframe tbody tr th:only-of-type {\n",
       "        vertical-align: middle;\n",
       "    }\n",
       "\n",
       "    .dataframe tbody tr th {\n",
       "        vertical-align: top;\n",
       "    }\n",
       "\n",
       "    .dataframe thead th {\n",
       "        text-align: right;\n",
       "    }\n",
       "</style>\n",
       "<table border=\"1\" class=\"dataframe\">\n",
       "  <thead>\n",
       "    <tr style=\"text-align: right;\">\n",
       "      <th></th>\n",
       "      <th>ISBN</th>\n",
       "      <th>Author</th>\n",
       "      <th>Title</th>\n",
       "      <th>Topical Term</th>\n",
       "    </tr>\n",
       "  </thead>\n",
       "  <tbody>\n",
       "    <tr>\n",
       "      <td>0</td>\n",
       "      <td>0394900383(lib.bdg.);0394800389 (trade);978039...</td>\n",
       "      <td>SeussDr</td>\n",
       "      <td>Fox in socks</td>\n",
       "      <td>Nonsense verses.</td>\n",
       "    </tr>\n",
       "    <tr>\n",
       "      <td>1</td>\n",
       "      <td>0138516006 (lib. bdg. :){dollar}6.95;19.75</td>\n",
       "      <td>DePaolaTomie</td>\n",
       "      <td>Strega Nona :an old tale</td>\n",
       "      <td>FolkloreItaly.</td>\n",
       "    </tr>\n",
       "    <tr>\n",
       "      <td>2</td>\n",
       "      <td>15.02</td>\n",
       "      <td>ZionGene</td>\n",
       "      <td>Harry and the lady next door</td>\n",
       "      <td>Level readers.local;DogsJuvenile fiction.</td>\n",
       "    </tr>\n",
       "    <tr>\n",
       "      <td>3</td>\n",
       "      <td>9.19676e+09</td>\n",
       "      <td>NielsenRobertF</td>\n",
       "      <td>Garney Henley :a gentleman and a tiger</td>\n",
       "      <td>Canadian footballBiography.</td>\n",
       "    </tr>\n",
       "    <tr>\n",
       "      <td>4</td>\n",
       "      <td>9780064440172</td>\n",
       "      <td>BonsallCrosby</td>\n",
       "      <td>The case of the cat's meow</td>\n",
       "      <td>Level readers.local;Detective and mystery stor...</td>\n",
       "    </tr>\n",
       "  </tbody>\n",
       "</table>\n",
       "</div>"
      ],
      "text/plain": [
       "                                                ISBN          Author  \\\n",
       "0  0394900383(lib.bdg.);0394800389 (trade);978039...         SeussDr   \n",
       "1         0138516006 (lib. bdg. :){dollar}6.95;19.75    DePaolaTomie   \n",
       "2                                              15.02        ZionGene   \n",
       "3                                        9.19676e+09  NielsenRobertF   \n",
       "4                                      9780064440172   BonsallCrosby   \n",
       "\n",
       "                                     Title  \\\n",
       "0                            Fox in socks    \n",
       "1                Strega Nona :an old tale    \n",
       "2            Harry and the lady next door    \n",
       "3  Garney Henley :a gentleman and a tiger    \n",
       "4              The case of the cat's meow    \n",
       "\n",
       "                                        Topical Term  \n",
       "0                                   Nonsense verses.  \n",
       "1                                     FolkloreItaly.  \n",
       "2          Level readers.local;DogsJuvenile fiction.  \n",
       "3                        Canadian footballBiography.  \n",
       "4  Level readers.local;Detective and mystery stor...  "
      ]
     },
     "execution_count": 12,
     "metadata": {},
     "output_type": "execute_result"
    }
   ],
   "source": [
    "file.head()"
   ]
  },
  {
   "cell_type": "code",
   "execution_count": 13,
   "metadata": {},
   "outputs": [
    {
     "data": {
      "text/plain": [
       "PattersonJames                          609\n",
       "SteelDanielle                           296\n",
       "MacomberDebbie                          271\n",
       "KalmanBobbie                            268\n",
       "RobertsNora                             211\n",
       "MichaelsFern                            210\n",
       "PendletonDon                            205\n",
       "OsborneMaryPope                         192\n",
       "JohansenIris                            171\n",
       "CusslerClive                            165\n",
       "ShakespeareWilliam                      165\n",
       "JohnstoneWilliamW                       164\n",
       "McCallSmithAlexander                    161\n",
       "WoodsStuart                             156\n",
       "EvanovichJanet                          151\n",
       "StiltonGeronimo(Fictitiouscharacter)    144\n",
       "GrahamHeather                           143\n",
       "PerryAnne                               141\n",
       "PalmerDiana                             140\n",
       "PattersonJamesauthor                    140\n",
       "KoontzDeanR(DeanRay)                    139\n",
       "MeadowsDaisy                            137\n",
       "RobbJD                                  125\n",
       "ChristieAgatha                          125\n",
       "MallerySusan                            124\n",
       "BaldacciDavid                           123\n",
       "MunschRobertN                           121\n",
       "HunterErin                              121\n",
       "KingStephen                             120\n",
       "BeatonMC                                120\n",
       "YolenJane                               119\n",
       "GrishamJohn                             118\n",
       "O'ConnorJane                            115\n",
       "BrownRitaMae                            103\n",
       "SandfordJohnFebruary                    102\n",
       "McDonaldMegan                           102\n",
       "FerrarellaMarie                         101\n",
       "RylantCynthia                           101\n",
       "BarkowHenriette                         101\n",
       "KingsburyKaren                          100\n",
       "PrestonDouglasJ                         100\n",
       "FeehanChristine                          97\n",
       "PaulsenGary                              96\n",
       "MillerLindaLael                          94\n",
       "JacksonLisa                              94\n",
       "ScottolineLisa                           93\n",
       "NeelsBetty                               92\n",
       "HolubJoan                                91\n",
       "LackeyMercedes                           91\n",
       "JanceJudithA                             91\n",
       "dtype: int64"
      ]
     },
     "execution_count": 13,
     "metadata": {},
     "output_type": "execute_result"
    }
   ],
   "source": [
    "freq = pd.Series(' '.join(file['Author']).split()).value_counts()[:50]\n",
    "freq"
   ]
  },
  {
   "cell_type": "code",
   "execution_count": null,
   "metadata": {},
   "outputs": [],
   "source": []
  }
 ],
 "metadata": {
  "kernelspec": {
   "display_name": "Python 3",
   "language": "python",
   "name": "python3"
  },
  "language_info": {
   "codemirror_mode": {
    "name": "ipython",
    "version": 3
   },
   "file_extension": ".py",
   "mimetype": "text/x-python",
   "name": "python",
   "nbconvert_exporter": "python",
   "pygments_lexer": "ipython3",
   "version": "3.7.4"
  }
 },
 "nbformat": 4,
 "nbformat_minor": 2
}
